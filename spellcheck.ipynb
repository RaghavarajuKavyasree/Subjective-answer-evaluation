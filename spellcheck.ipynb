{
 "cells": [
  {
   "cell_type": "markdown",
   "metadata": {},
   "source": [
    "SPELL CHECK"
   ]
  },
  {
   "cell_type": "code",
   "execution_count": 1,
   "metadata": {},
   "outputs": [
    {
     "name": "stdout",
     "output_type": "stream",
     "text": [
      "Requirement already satisfied: language-tool-python in c:\\users\\keerthi\\anaconda3\\lib\\site-packages (2.5.3)\n",
      "Requirement already satisfied: requests in c:\\users\\keerthi\\anaconda3\\lib\\site-packages (from language-tool-python) (2.24.0)\n",
      "Requirement already satisfied: tqdm in c:\\users\\keerthi\\anaconda3\\lib\\site-packages (from language-tool-python) (4.50.2)\n",
      "Requirement already satisfied: urllib3!=1.25.0,!=1.25.1,<1.26,>=1.21.1 in c:\\users\\keerthi\\anaconda3\\lib\\site-packages (from requests->language-tool-python) (1.25.11)\n",
      "Requirement already satisfied: idna<3,>=2.5 in c:\\users\\keerthi\\anaconda3\\lib\\site-packages (from requests->language-tool-python) (2.10)\n",
      "Requirement already satisfied: certifi>=2017.4.17 in c:\\users\\keerthi\\anaconda3\\lib\\site-packages (from requests->language-tool-python) (2020.6.20)\n",
      "Requirement already satisfied: chardet<4,>=3.0.2 in c:\\users\\keerthi\\anaconda3\\lib\\site-packages (from requests->language-tool-python) (3.0.4)\n",
      "Note: you may need to restart the kernel to use updated packages.\n"
     ]
    }
   ],
   "source": [
    "pip install language-tool-python"
   ]
  },
  {
   "cell_type": "code",
   "execution_count": 2,
   "metadata": {},
   "outputs": [
    {
     "name": "stdout",
     "output_type": "stream",
     "text": [
      "The matches in the file:\n",
      "[Match({'ruleId': 'MASS_AGREEMENT', 'message': 'Possible agreement error - use third-person verb forms for singular and mass nouns: “is”.', 'replacements': ['is'], 'offsetInContext': 11, 'context': 'A compiler are a special program that processes statem...', 'offset': 11, 'errorLength': 3, 'category': 'GRAMMAR', 'ruleIssueType': 'grammar', 'sentence': 'A compiler are a special program that processes statements written in a particular programing language and turns them into machiine language There are two partts to compilation: analaysis and synthesis.'}), Match({'ruleId': 'MORFOLOGIK_RULE_EN_US', 'message': 'Possible spelling mistake found.', 'replacements': ['programming'], 'offsetInContext': 43, 'context': '...sses statements written in a particular programing language and turns them into machiine l...', 'offset': 83, 'errorLength': 10, 'category': 'TYPOS', 'ruleIssueType': 'misspelling', 'sentence': 'A compiler are a special program that processes statements written in a particular programing language and turns them into machiine language There are two partts to compilation: analaysis and synthesis.'}), Match({'ruleId': 'MORFOLOGIK_RULE_EN_US', 'message': 'Possible spelling mistake found.', 'replacements': ['machine'], 'offsetInContext': 43, 'context': '...programing language and turns them into machiine language There are two partts to compil...', 'offset': 123, 'errorLength': 8, 'category': 'TYPOS', 'ruleIssueType': 'misspelling', 'sentence': 'A compiler are a special program that processes statements written in a particular programing language and turns them into machiine language There are two partts to compilation: analaysis and synthesis.'}), Match({'ruleId': 'MORFOLOGIK_RULE_EN_US', 'message': 'Possible spelling mistake found.', 'replacements': ['parts', 'part ts'], 'offsetInContext': 43, 'context': '...em into machiine language There are two partts to compilation: analaysis and synthesis...', 'offset': 155, 'errorLength': 6, 'category': 'TYPOS', 'ruleIssueType': 'misspelling', 'sentence': 'A compiler are a special program that processes statements written in a particular programing language and turns them into machiine language There are two partts to compilation: analaysis and synthesis.'}), Match({'ruleId': 'MORFOLOGIK_RULE_EN_US', 'message': 'Possible spelling mistake found.', 'replacements': ['analysis'], 'offsetInContext': 43, 'context': '...ge There are two partts to compilation: analaysis and synthesis. Symbol Table is a import...', 'offset': 178, 'errorLength': 9, 'category': 'TYPOS', 'ruleIssueType': 'misspelling', 'sentence': 'A compiler are a special program that processes statements written in a particular programing language and turns them into machiine language There are two partts to compilation: analaysis and synthesis.'}), Match({'ruleId': 'EN_A_VS_AN', 'message': 'Use “an” instead of ‘a’ if the following word starts with a vowel sound, e.g. ‘an article’, ‘an hour’.', 'replacements': ['an'], 'offsetInContext': 43, 'context': '...nalaysis and synthesis. Symbol Table is a important data structurce creted and ma...', 'offset': 219, 'errorLength': 1, 'category': 'MISC', 'ruleIssueType': 'misspelling', 'sentence': 'Symbol Table is a important data structurce creted and maintained by the compiler in order ti keep track of semantics of variable We basically have two phases of compilers, namelly Analysis phase and Synthesis phase.'}), Match({'ruleId': 'MORFOLOGIK_RULE_EN_US', 'message': 'Possible spelling mistake found.', 'replacements': ['structure'], 'offsetInContext': 43, 'context': '...hesis. Symbol Table is a important data structurce creted and maintained by the compiler i...', 'offset': 236, 'errorLength': 10, 'category': 'TYPOS', 'ruleIssueType': 'misspelling', 'sentence': 'Symbol Table is a important data structurce creted and maintained by the compiler in order ti keep track of semantics of variable We basically have two phases of compilers, namelly Analysis phase and Synthesis phase.'}), Match({'ruleId': 'MORFOLOGIK_RULE_EN_US', 'message': 'Possible spelling mistake found.', 'replacements': ['created', 'Crete', 'creed', 'crested', 'Creed', 'crewed', 'crated'], 'offsetInContext': 43, 'context': '...ol Table is a important data structurce creted and maintained by the compiler in order...', 'offset': 247, 'errorLength': 6, 'category': 'TYPOS', 'ruleIssueType': 'misspelling', 'sentence': 'Symbol Table is a important data structurce creted and maintained by the compiler in order ti keep track of semantics of variable We basically have two phases of compilers, namelly Analysis phase and Synthesis phase.'}), Match({'ruleId': 'MORFOLOGIK_RULE_EN_US', 'message': 'Possible spelling mistake found.', 'replacements': ['namely'], 'offsetInContext': 43, 'context': '...basically have two phases of compilers, namelly Analysis phase and Synthesis phase. The...', 'offset': 376, 'errorLength': 7, 'category': 'TYPOS', 'ruleIssueType': 'misspelling', 'sentence': 'Symbol Table is a important data structurce creted and maintained by the compiler in order ti keep track of semantics of variable We basically have two phases of compilers, namelly Analysis phase and Synthesis phase.'}), Match({'ruleId': 'NON_ANTI_JJ', 'message': 'It appears that a hyphen is missing.', 'replacements': ['non-recursive'], 'offsetInContext': 43, 'context': '...and Synthesis phase. The LR parser is a non recursive, shift redice, bottom up parser. It use...', 'offset': 439, 'errorLength': 13, 'category': 'COLLOCATIONS', 'ruleIssueType': 'grammar', 'sentence': 'The LR parser is a non recursive, shift redice, bottom up parser.'}), Match({'ruleId': 'MORFOLOGIK_RULE_EN_US', 'message': 'Possible spelling mistake found.', 'replacements': ['reduce', 'red ice'], 'offsetInContext': 43, 'context': '...The LR parser is a non recursive, shift redice, bottom up parser. It use as wide class...', 'offset': 460, 'errorLength': 6, 'category': 'TYPOS', 'ruleIssueType': 'misspelling', 'sentence': 'The LR parser is a non recursive, shift redice, bottom up parser.'}), Match({'ruleId': 'IT_VBZ', 'message': 'After ‘It’, use the third-person verb form “uses”.', 'replacements': ['uses'], 'offsetInContext': 43, 'context': '...ive, shift redice, bottom up parser. It use as wide class of context-free grammar', 'offset': 489, 'errorLength': 3, 'category': 'GRAMMAR', 'ruleIssueType': 'grammar', 'sentence': 'It use as wide class of context-free grammar'}), Match({'ruleId': 'PUNCTUATION_PARAGRAPH_END', 'message': 'Please add a punctuation mark at the end of paragraph.', 'replacements': ['grammar.', 'grammar!', 'grammar?', 'grammar:', 'grammar,', 'grammar;'], 'offsetInContext': 43, 'context': '...r. It use as wide class of context-free grammar', 'offset': 523, 'errorLength': 7, 'category': 'PUNCTUATION', 'ruleIssueType': 'grammar', 'sentence': 'It use as wide class of context-free grammar'})]\n"
     ]
    }
   ],
   "source": [
    "import language_tool_python\n",
    "tool = language_tool_python.LanguageTool('en-US')\n",
    "f = open('C:/Users/Keerthi/Downloads/TeleDesktop/student1.txt', 'r')\n",
    "lines = f.readlines()\n",
    "text = ' '.join([line.strip() for line in lines])\n",
    "#with open(r'/content/gdrive/My Drive/input_py.txt', 'r') as fin:  \n",
    "    #for line in fin: \n",
    "        #text=line.split()\n",
    "        #matches = tool.check(line)\n",
    "#print(text)\n",
    "matches = tool.check(text)\n",
    "print(\"The matches in the file:\")\n",
    "print(matches)"
   ]
  },
  {
   "cell_type": "markdown",
   "metadata": {},
   "source": [
    "CORRECTION OF SPELLING ERRORS"
   ]
  },
  {
   "cell_type": "code",
   "execution_count": 3,
   "metadata": {},
   "outputs": [
    {
     "name": "stdout",
     "output_type": "stream",
     "text": [
      "\n",
      "The corrected words are:\n",
      "['is', 'programming', 'machine', 'parts', 'analysis', 'an', 'structure', 'created', 'namely', 'non-recursive', 'reduce', 'uses', 'grammar.']\n",
      "\n",
      "The final corrected text is:\n"
     ]
    },
    {
     "data": {
      "text/plain": [
       "'A compiler is a special program that processes statements written in a particular programming language and turns them into machine language There are two parts to compilation: analysis and synthesis. Symbol Table is an important data structure created and maintained by the compiler in order ti keep track of semantics of variable We basically have two phases of compilers, namely Analysis phase and Synthesis phase. The LR parser is a non-recursive, shift reduce, bottom up parser. It uses as wide class of context-free grammar.'"
      ]
     },
     "execution_count": 3,
     "metadata": {},
     "output_type": "execute_result"
    }
   ],
   "source": [
    "my_mistakes = []\n",
    "my_corrections = [] \n",
    "start_positions =[]\n",
    "end_positions = []\n",
    "\n",
    "for rules in matches:\n",
    "    if len(rules.replacements)>0:\n",
    "        start_positions.append(rules.offset)\n",
    "        end_positions.append(rules.errorLength+rules.offset)\n",
    "        my_mistakes.append(text[rules.offset:rules.errorLength+rules.offset])\n",
    "        my_corrections.append(rules.replacements[0])\n",
    "      \n",
    "print(\"\\nThe corrected words are:\") \n",
    "print(my_corrections)\n",
    "my_new_text = list(text)\n",
    "my_a=list(my_corrections) \n",
    "for m in range(len(start_positions)):\n",
    "    for i in range(len(my_new_text)):\n",
    "        my_new_text[start_positions[m]]=my_a[m]\n",
    "        if (i>start_positions[m] and i<end_positions[m]):\n",
    "            my_new_text[i]=\"\"\n",
    "        \n",
    "my_new_text = \"\".join(my_new_text)\n",
    "print(\"\\nThe final corrected text is:\")\n",
    "my_new_text"
   ]
  },
  {
   "cell_type": "code",
   "execution_count": 4,
   "metadata": {},
   "outputs": [
    {
     "name": "stdout",
     "output_type": "stream",
     "text": [
      "Requirement already satisfied: gingerit in c:\\users\\keerthi\\anaconda3\\lib\\site-packages (0.8.1)Note: you may need to restart the kernel to use updated packages.\n",
      "\n",
      "Requirement already satisfied: requests<3.0,>=2.22 in c:\\users\\keerthi\\anaconda3\\lib\\site-packages (from gingerit) (2.24.0)\n",
      "Requirement already satisfied: urllib3!=1.25.0,!=1.25.1,<1.26,>=1.21.1 in c:\\users\\keerthi\\anaconda3\\lib\\site-packages (from requests<3.0,>=2.22->gingerit) (1.25.11)\n",
      "Requirement already satisfied: idna<3,>=2.5 in c:\\users\\keerthi\\anaconda3\\lib\\site-packages (from requests<3.0,>=2.22->gingerit) (2.10)\n",
      "Requirement already satisfied: certifi>=2017.4.17 in c:\\users\\keerthi\\anaconda3\\lib\\site-packages (from requests<3.0,>=2.22->gingerit) (2020.6.20)\n",
      "Requirement already satisfied: chardet<4,>=3.0.2 in c:\\users\\keerthi\\anaconda3\\lib\\site-packages (from requests<3.0,>=2.22->gingerit) (3.0.4)\n"
     ]
    }
   ],
   "source": [
    "pip install gingerit"
   ]
  },
  {
   "cell_type": "markdown",
   "metadata": {},
   "source": [
    "GRAMMAR CHECK"
   ]
  },
  {
   "cell_type": "code",
   "execution_count": 5,
   "metadata": {},
   "outputs": [
    {
     "data": {
      "text/plain": [
       "{'text': 'A compler are a special program that processes statements written in a particular programing language and turns them into machiine languageThere are two partts to compilation: analaysis and synthesis.Symbol Table is a important data structurce creted and maintained by the compiler in order ti keep track of semantics of variableWe basically have two phases of compilers, namelly Analysis phase and Synthesis phase.The LR parser is a non recursive, shift redice, bottom up parser. It use as wide class of context-free grammar',\n",
       " 'result': 'A compiler is a special program that processes statements written in a particular programming language and turns them into machine language There are two parts to compile: analysis and synthesis. Symbol Table is an important data structure created and maintained by the compiler in order to keep track of the semantics of variable basically have two phases of compilers, namely Analysis phase and Synthesis phase. The LR parser is a non recursive, shift reduce, bottom up parser. Its use as a wide class of context-free grammar',\n",
       " 'corrections': [{'start': 491,\n",
       "   'text': 'wide class',\n",
       "   'correct': 'a wide class',\n",
       "   'definition': None},\n",
       "  {'start': 481, 'text': 'It', 'correct': 'Its', 'definition': None},\n",
       "  {'start': 455,\n",
       "   'text': 'redice',\n",
       "   'correct': 'reduce',\n",
       "   'definition': 'cut down on; make a reduction in'},\n",
       "  {'start': 414, 'text': '.', 'correct': '. ', 'definition': 'Accept space'},\n",
       "  {'start': 372,\n",
       "   'text': 'namelly',\n",
       "   'correct': 'namely',\n",
       "   'definition': 'as follows'},\n",
       "  {'start': 321,\n",
       "   'text': 'variableWe',\n",
       "   'correct': 'variable',\n",
       "   'definition': 'liable to or capable of change'},\n",
       "  {'start': 308,\n",
       "   'text': 'semantics',\n",
       "   'correct': 'the semantics',\n",
       "   'definition': None},\n",
       "  {'start': 291,\n",
       "   'text': 'ti',\n",
       "   'correct': 'to',\n",
       "   'definition': 'in the direction of'},\n",
       "  {'start': 244,\n",
       "   'text': 'creted',\n",
       "   'correct': 'created',\n",
       "   'definition': 'make or cause to be or to become'},\n",
       "  {'start': 233,\n",
       "   'text': 'structurce',\n",
       "   'correct': 'structure',\n",
       "   'definition': None},\n",
       "  {'start': 216, 'text': 'a', 'correct': 'an', 'definition': None},\n",
       "  {'start': 199, 'text': '.', 'correct': '. ', 'definition': 'Accept space'},\n",
       "  {'start': 176,\n",
       "   'text': 'analaysis',\n",
       "   'correct': 'analysis',\n",
       "   'definition': 'an investigation of the component parts of a whole and their relations in making up the whole'},\n",
       "  {'start': 163,\n",
       "   'text': 'compilation',\n",
       "   'correct': 'compile',\n",
       "   'definition': None},\n",
       "  {'start': 153,\n",
       "   'text': 'partts',\n",
       "   'correct': 'parts',\n",
       "   'definition': 'the local environment'},\n",
       "  {'start': 131,\n",
       "   'text': 'languageThere',\n",
       "   'correct': 'language There',\n",
       "   'definition': None},\n",
       "  {'start': 122,\n",
       "   'text': 'machiine',\n",
       "   'correct': 'machine',\n",
       "   'definition': 'any mechanical or electrical device that transmits or modifies energy to perform or assist in the performance of human tasks'},\n",
       "  {'start': 82,\n",
       "   'text': 'programing',\n",
       "   'correct': 'programming',\n",
       "   'definition': None},\n",
       "  {'start': 10, 'text': 'are', 'correct': 'is', 'definition': None},\n",
       "  {'start': 2,\n",
       "   'text': 'compler',\n",
       "   'correct': 'compiler',\n",
       "   'definition': 'a person who compiles information (as for reference purposes)'}]}"
      ]
     },
     "execution_count": 5,
     "metadata": {},
     "output_type": "execute_result"
    }
   ],
   "source": [
    "from gingerit.gingerit import GingerIt\n",
    "text = \"A compler are a special program that processes statements written in a particular programing language and turns them into machiine languageThere are two partts to compilation: analaysis and synthesis.Symbol Table is a important data structurce creted and maintained by the compiler in order ti keep track of semantics of variableWe basically have two phases of compilers, namelly Analysis phase and Synthesis phase.The LR parser is a non recursive, shift redice, bottom up parser. It use as wide class of context-free grammar\"\n",
    "result = GingerIt().parse(text)\n",
    "result"
   ]
  },
  {
   "cell_type": "code",
   "execution_count": 6,
   "metadata": {},
   "outputs": [
    {
     "data": {
      "text/plain": [
       "20"
      ]
     },
     "execution_count": 6,
     "metadata": {},
     "output_type": "execute_result"
    }
   ],
   "source": [
    "\n",
    "# Number of mistakes in the original text\n",
    "\n",
    "len(result['corrections'])"
   ]
  },
  {
   "cell_type": "code",
   "execution_count": 7,
   "metadata": {},
   "outputs": [
    {
     "name": "stdout",
     "output_type": "stream",
     "text": [
      "{'start': 491, 'text': 'wide class', 'correct': 'a wide class', 'definition': None}\n",
      "{'start': 481, 'text': 'It', 'correct': 'Its', 'definition': None}\n",
      "{'start': 455, 'text': 'redice', 'correct': 'reduce', 'definition': 'cut down on; make a reduction in'}\n",
      "{'start': 414, 'text': '.', 'correct': '. ', 'definition': 'Accept space'}\n",
      "{'start': 372, 'text': 'namelly', 'correct': 'namely', 'definition': 'as follows'}\n",
      "{'start': 321, 'text': 'variableWe', 'correct': 'variable', 'definition': 'liable to or capable of change'}\n",
      "{'start': 308, 'text': 'semantics', 'correct': 'the semantics', 'definition': None}\n",
      "{'start': 291, 'text': 'ti', 'correct': 'to', 'definition': 'in the direction of'}\n",
      "{'start': 244, 'text': 'creted', 'correct': 'created', 'definition': 'make or cause to be or to become'}\n",
      "{'start': 233, 'text': 'structurce', 'correct': 'structure', 'definition': None}\n",
      "{'start': 216, 'text': 'a', 'correct': 'an', 'definition': None}\n",
      "{'start': 199, 'text': '.', 'correct': '. ', 'definition': 'Accept space'}\n",
      "{'start': 176, 'text': 'analaysis', 'correct': 'analysis', 'definition': 'an investigation of the component parts of a whole and their relations in making up the whole'}\n",
      "{'start': 163, 'text': 'compilation', 'correct': 'compile', 'definition': None}\n",
      "{'start': 153, 'text': 'partts', 'correct': 'parts', 'definition': 'the local environment'}\n",
      "{'start': 131, 'text': 'languageThere', 'correct': 'language There', 'definition': None}\n",
      "{'start': 122, 'text': 'machiine', 'correct': 'machine', 'definition': 'any mechanical or electrical device that transmits or modifies energy to perform or assist in the performance of human tasks'}\n",
      "{'start': 82, 'text': 'programing', 'correct': 'programming', 'definition': None}\n",
      "{'start': 10, 'text': 'are', 'correct': 'is', 'definition': None}\n",
      "{'start': 2, 'text': 'compler', 'correct': 'compiler', 'definition': 'a person who compiles information (as for reference purposes)'}\n"
     ]
    }
   ],
   "source": [
    "# List of mistakes in dictionary format as starting index, mistaken text, corrected text, definition of the corrected text\n",
    "\n",
    "for i in range(len(result['corrections'])):\n",
    "  print(result['corrections'][i])"
   ]
  },
  {
   "cell_type": "code",
   "execution_count": 8,
   "metadata": {},
   "outputs": [
    {
     "name": "stdout",
     "output_type": "stream",
     "text": [
      "Original Text:  A compler are a special program that processes statements written in a particular programing language and turns them into machiine languageThere are two partts to compilation: analaysis and synthesis.Symbol Table is a important data structurce creted and maintained by the compiler in order ti keep track of semantics of variableWe basically have two phases of compilers, namelly Analysis phase and Synthesis phase.The LR parser is a non recursive, shift redice, bottom up parser. It use as wide class of context-free grammar\n",
      "\n",
      "\n",
      "Corrected Text:  A compiler is a special program that processes statements written in a particular programming language and turns them into machine language There are two parts to compile: analysis and synthesis. Symbol Table is an important data structure created and maintained by the compiler in order to keep track of the semantics of variable basically have two phases of compilers, namely Analysis phase and Synthesis phase. The LR parser is a non recursive, shift reduce, bottom up parser. Its use as a wide class of context-free grammar\n"
     ]
    }
   ],
   "source": [
    "# Print the corrected text\n",
    "\n",
    "print(\"Original Text: \", result['text'])\n",
    "print(\"\\n\")\n",
    "print(\"Corrected Text: \", result['result'])"
   ]
  },
  {
   "cell_type": "code",
   "execution_count": null,
   "metadata": {},
   "outputs": [],
   "source": []
  }
 ],
 "metadata": {
  "kernelspec": {
   "display_name": "Python 3",
   "language": "python",
   "name": "python3"
  },
  "language_info": {
   "codemirror_mode": {
    "name": "ipython",
    "version": 3
   },
   "file_extension": ".py",
   "mimetype": "text/x-python",
   "name": "python",
   "nbconvert_exporter": "python",
   "pygments_lexer": "ipython3",
   "version": "3.8.5"
  }
 },
 "nbformat": 4,
 "nbformat_minor": 4
}
