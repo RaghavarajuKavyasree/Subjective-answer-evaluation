{
 "cells": [
  {
   "cell_type": "markdown",
   "metadata": {},
   "source": [
    "CHECKING THE TEXT"
   ]
  },
  {
   "cell_type": "code",
   "execution_count": 1,
   "metadata": {},
   "outputs": [
    {
     "name": "stdout",
     "output_type": "stream",
     "text": [
      "Number of words in text file : 85\n"
     ]
    }
   ],
   "source": [
    "file = open(\"C:/Users/Keerthi/Downloads/TeleDesktop/student1.txt\", 'rt', encoding=\"iso-8859-1\")\n",
    "data = file.read()\n",
    "words = data.split()\n",
    "\n",
    "print('Number of words in text file :' , len(words))"
   ]
  },
  {
   "cell_type": "code",
   "execution_count": 2,
   "metadata": {},
   "outputs": [
    {
     "name": "stdout",
     "output_type": "stream",
     "text": [
      "Number of characters in text file : 523\n"
     ]
    }
   ],
   "source": [
    "file = open(\"C:/Users/Keerthi/Downloads/TeleDesktop/student1.txt\", 'rt', encoding=\"iso-8859-1\")\n",
    "data = file.read()\n",
    "no_of_characters= len(data)\n",
    "\n",
    "print('Number of characters in text file :' , no_of_characters)"
   ]
  },
  {
   "cell_type": "code",
   "execution_count": 3,
   "metadata": {},
   "outputs": [
    {
     "name": "stdout",
     "output_type": "stream",
     "text": [
      "This is the number of lines in the file\n",
      "5\n"
     ]
    }
   ],
   "source": [
    "# Python program to count the  \n",
    "# number of lines in a text file \n",
    "  \n",
    "  \n",
    "# Opening a file \n",
    "file = open(\"C:/Users/Keerthi/Downloads/TeleDesktop/student1.txt\",\"r\") \n",
    "Counter = 0\n",
    "  \n",
    "# Reading from file \n",
    "Content = file.read() \n",
    "CoList = Content.split(\"\\n\") \n",
    "  \n",
    "for i in CoList: \n",
    "    if i: \n",
    "        Counter += 1\n",
    "          \n",
    "print(\"This is the number of lines in the file\") \n",
    "print(Counter) "
   ]
  },
  {
   "cell_type": "code",
   "execution_count": 4,
   "metadata": {},
   "outputs": [
    {
     "name": "stdout",
     "output_type": "stream",
     "text": [
      "This is the number of sentences in the file\n",
      "3\n"
     ]
    }
   ],
   "source": [
    "with open(\"C:/Users/Keerthi/Downloads/TeleDesktop/student1.txt\", \"r\") as f:\n",
    "    count = f.read().count('.')\n",
    "print(\"This is the number of sentences in the file\") \n",
    "print (count)"
   ]
  },
  {
   "cell_type": "code",
   "execution_count": null,
   "metadata": {},
   "outputs": [],
   "source": []
  }
 ],
 "metadata": {
  "kernelspec": {
   "display_name": "Python 3",
   "language": "python",
   "name": "python3"
  },
  "language_info": {
   "codemirror_mode": {
    "name": "ipython",
    "version": 3
   },
   "file_extension": ".py",
   "mimetype": "text/x-python",
   "name": "python",
   "nbconvert_exporter": "python",
   "pygments_lexer": "ipython3",
   "version": "3.8.5"
  }
 },
 "nbformat": 4,
 "nbformat_minor": 4
}
