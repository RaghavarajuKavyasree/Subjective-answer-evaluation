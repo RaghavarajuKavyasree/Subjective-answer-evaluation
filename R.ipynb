{
 "cells": [
  {
   "cell_type": "code",
   "execution_count": 1,
   "metadata": {},
   "outputs": [
    {
     "name": "stdout",
     "output_type": "stream",
     "text": [
      "Requirement already satisfied: rake-nltk in c:\\users\\keerthi\\anaconda3\\lib\\site-packages (1.0.4)\n",
      "Requirement already satisfied: nltk in c:\\users\\keerthi\\anaconda3\\lib\\site-packages (from rake-nltk) (3.6.1)\n",
      "Requirement already satisfied: tqdm in c:\\users\\keerthi\\anaconda3\\lib\\site-packages (from nltk->rake-nltk) (4.50.2)\n",
      "Requirement already satisfied: joblib in c:\\users\\keerthi\\anaconda3\\lib\\site-packages (from nltk->rake-nltk) (0.17.0)\n",
      "Requirement already satisfied: click in c:\\users\\keerthi\\anaconda3\\lib\\site-packages (from nltk->rake-nltk) (7.1.2)\n",
      "Requirement already satisfied: regex in c:\\users\\keerthi\\anaconda3\\lib\\site-packages (from nltk->rake-nltk) (2020.10.15)\n",
      "Note: you may need to restart the kernel to use updated packages.\n"
     ]
    }
   ],
   "source": [
    "pip install rake-nltk"
   ]
  },
  {
   "cell_type": "code",
   "execution_count": 2,
   "metadata": {},
   "outputs": [
    {
     "data": {
      "text/plain": [
       "['important data structure created',\n",
       " 'processes statements written',\n",
       " 'particular programming language',\n",
       " 'namely analysis phase',\n",
       " 'machine language',\n",
       " 'wide class',\n",
       " 'variable basically',\n",
       " 'two phases',\n",
       " 'two parts',\n",
       " 'synthesis phase',\n",
       " 'symbol table',\n",
       " 'special program',\n",
       " 'shift reduce',\n",
       " 'non recursive',\n",
       " 'keep track',\n",
       " 'free grammar',\n",
       " 'lr parser',\n",
       " 'analysis',\n",
       " 'synthesis',\n",
       " 'parser',\n",
       " 'use',\n",
       " 'turns',\n",
       " 'semantics',\n",
       " 'order',\n",
       " 'maintained',\n",
       " 'context',\n",
       " 'compilers',\n",
       " 'compiler',\n",
       " 'compile',\n",
       " 'bottom']"
      ]
     },
     "execution_count": 2,
     "metadata": {},
     "output_type": "execute_result"
    }
   ],
   "source": [
    "from rake_nltk import Rake\n",
    "\n",
    "r = Rake() # Uses stopwords for english from NLTK, and all puntuation characters.\n",
    "\n",
    "r.extract_keywords_from_text(\" A compiler is a special program that processes statements written in a particular programming language and turns them into machine language There are two parts to compile: analysis and synthesis. Symbol Table is an important data structure created and maintained by the compiler in order to keep track of the semantics of variable basically have two phases of compilers, namely Analysis phase and Synthesis phase. The LR parser is a non recursive, shift reduce, bottom up parser. Its use as a wide class of context-free grammar\")\n",
    "r.get_ranked_phrases() # To get keyword phrases ranked highest to lowest."
   ]
  },
  {
   "cell_type": "code",
   "execution_count": 3,
   "metadata": {},
   "outputs": [
    {
     "name": "stdout",
     "output_type": "stream",
     "text": [
      "Requirement already satisfied: python-rake==1.4.4 in c:\\users\\keerthi\\anaconda3\\lib\\site-packages (1.4.4)\n"
     ]
    }
   ],
   "source": [
    "!pip install python-rake==1.4.4"
   ]
  },
  {
   "cell_type": "code",
   "execution_count": 4,
   "metadata": {},
   "outputs": [
    {
     "name": "stdout",
     "output_type": "stream",
     "text": [
      "keywords:  [('compiler', 1.0), ('turns', 1.0), ('parts', 1.0), ('compile', 1.0), ('maintained', 1.0), ('order', 1.0), ('track', 1.0), ('semantics', 1.0), ('phases', 1.0), ('compilers', 1.0), ('recursive', 1.0), ('bottom', 1.0), ('analysis', 1.5), ('synthesis', 1.5), ('parser', 1.5), ('analysis phase', 3.5), ('synthesis phase', 3.5), ('lr parser', 3.5), ('special program', 4.0), ('programming language', 4.0), ('machine language', 4.0), ('symbol table', 4.0), ('variable basically', 4.0), ('shift reduce', 4.0), ('wide class', 4.0), ('processes statements written', 9.0), ('context-free grammar', 9.0), ('important data structure created', 16.0)]\n"
     ]
    }
   ],
   "source": [
    "import RAKE\n",
    "import operator\n",
    "\n",
    "stop_dir='C:/Users/Keerthi/Downloads/TeleDesktop/stoplists/SmartStoplist.txt'\n",
    "rake_object=RAKE.Rake(stop_dir)\n",
    "\n",
    "def Sort_Tuple(tup):\n",
    "    tup.sort(key = lambda x: x[1])\n",
    "    return tup\n",
    "\n",
    "sample_file = open(\"C:/Users/Keerthi/Downloads/TeleDesktop/output.txt\",'r', encoding=\"iso-8859-1\")\n",
    "text = sample_file.read()\n",
    "\n",
    "keywords = Sort_Tuple(rake_object.run(text))\n",
    "print(\"keywords: \",keywords)"
   ]
  },
  {
   "cell_type": "code",
   "execution_count": 5,
   "metadata": {},
   "outputs": [
    {
     "name": "stdout",
     "output_type": "stream",
     "text": [
      "Requirement already satisfied: rake-nltk in c:\\users\\keerthi\\anaconda3\\lib\\site-packages (1.0.4)Note: you may need to restart the kernel to use updated packages.\n",
      "Requirement already satisfied: nltk in c:\\users\\keerthi\\anaconda3\\lib\\site-packages (from rake-nltk) (3.6.1)\n",
      "\n",
      "Requirement already satisfied: click in c:\\users\\keerthi\\anaconda3\\lib\\site-packages (from nltk->rake-nltk) (7.1.2)\n",
      "Requirement already satisfied: joblib in c:\\users\\keerthi\\anaconda3\\lib\\site-packages (from nltk->rake-nltk) (0.17.0)\n",
      "Requirement already satisfied: regex in c:\\users\\keerthi\\anaconda3\\lib\\site-packages (from nltk->rake-nltk) (2020.10.15)\n",
      "Requirement already satisfied: tqdm in c:\\users\\keerthi\\anaconda3\\lib\\site-packages (from nltk->rake-nltk) (4.50.2)\n"
     ]
    }
   ],
   "source": [
    "pip install rake-nltk"
   ]
  },
  {
   "cell_type": "code",
   "execution_count": 6,
   "metadata": {},
   "outputs": [
    {
     "name": "stdout",
     "output_type": "stream",
     "text": [
      "Requirement already satisfied: rake-nltk in c:\\users\\keerthi\\anaconda3\\lib\\site-packages (1.0.4)\n",
      "Requirement already satisfied: nltk in c:\\users\\keerthi\\anaconda3\\lib\\site-packages (from rake-nltk) (3.6.1)\n",
      "Requirement already satisfied: tqdm in c:\\users\\keerthi\\anaconda3\\lib\\site-packages (from nltk->rake-nltk) (4.50.2)\n",
      "Requirement already satisfied: joblib in c:\\users\\keerthi\\anaconda3\\lib\\site-packages (from nltk->rake-nltk) (0.17.0)\n",
      "Requirement already satisfied: click in c:\\users\\keerthi\\anaconda3\\lib\\site-packages (from nltk->rake-nltk) (7.1.2)\n",
      "Requirement already satisfied: regex in c:\\users\\keerthi\\anaconda3\\lib\\site-packages (from nltk->rake-nltk) (2020.10.15)\n",
      "Note: you may need to restart the kernel to use updated packages.\n"
     ]
    }
   ],
   "source": [
    "pip install rake-nltk"
   ]
  },
  {
   "cell_type": "code",
   "execution_count": null,
   "metadata": {},
   "outputs": [],
   "source": []
  }
 ],
 "metadata": {
  "kernelspec": {
   "display_name": "Python 3",
   "language": "python",
   "name": "python3"
  },
  "language_info": {
   "codemirror_mode": {
    "name": "ipython",
    "version": 3
   },
   "file_extension": ".py",
   "mimetype": "text/x-python",
   "name": "python",
   "nbconvert_exporter": "python",
   "pygments_lexer": "ipython3",
   "version": "3.8.5"
  }
 },
 "nbformat": 4,
 "nbformat_minor": 4
}
